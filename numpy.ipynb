{
 "cells": [
  {
   "cell_type": "code",
   "execution_count": null,
   "id": "ae10da38",
   "metadata": {},
   "outputs": [
    {
     "data": {
      "text/plain": [
       "array([0, 1, 2, 3, 4, 5])"
      ]
     },
     "execution_count": 5,
     "metadata": {},
     "output_type": "execute_result"
    }
   ],
   "source": [
    " #1)Create a NumPy array 'arr' of integers from 0 to 5 and print its data type\n",
    "import numpy as np\n",
    "arr=np.array([0,1,2,3,4,5])\n",
    "arr\n"
   ]
  },
  {
   "cell_type": "code",
   "execution_count": null,
   "id": "a0f6df35",
   "metadata": {},
   "outputs": [
    {
     "data": {
      "text/plain": [
       "dtype('int32')"
      ]
     },
     "execution_count": 8,
     "metadata": {},
     "output_type": "execute_result"
    }
   ],
   "source": [
    "arr.dtype"
   ]
  },
  {
   "cell_type": "code",
   "execution_count": null,
   "id": "985d8b0a",
   "metadata": {},
   "outputs": [
    {
     "data": {
      "text/plain": [
       "dtype('float64')"
      ]
     },
     "execution_count": 9,
     "metadata": {},
     "output_type": "execute_result"
    }
   ],
   "source": [
    "#2) Given a NumPy array 'arr', check if its data type is float64\n",
    "#arr = np.array([1.5, 2.6, 3.7])\n",
    "arr1=np.array([1.5, 2.6, 3.7])\n",
    "arr1.dtype\n"
   ]
  },
  {
   "cell_type": "code",
   "execution_count": null,
   "id": "17a1b0c3",
   "metadata": {},
   "outputs": [
    {
     "data": {
      "text/plain": [
       "array([4.+5.j, 8.+7.j, 8.+1.j])"
      ]
     },
     "execution_count": 14,
     "metadata": {},
     "output_type": "execute_result"
    }
   ],
   "source": [
    "#3) Create a NumPy array 'arr' with a data type of complex128 containing three complex numbers.\n",
    "a=np.array([4+5j,8+7j,8+1j],dtype = complex)\n",
    "a"
   ]
  },
  {
   "cell_type": "code",
   "execution_count": null,
   "id": "57a252d4",
   "metadata": {},
   "outputs": [
    {
     "data": {
      "text/plain": [
       "dtype('complex128')"
      ]
     },
     "execution_count": 15,
     "metadata": {},
     "output_type": "execute_result"
    }
   ],
   "source": [
    "a.dtype\n"
   ]
  },
  {
   "cell_type": "code",
   "execution_count": null,
   "id": "97949e78",
   "metadata": {},
   "outputs": [
    {
     "data": {
      "text/plain": [
       "array([1., 2., 3., 4.], dtype=float32)"
      ]
     },
     "execution_count": 20,
     "metadata": {},
     "output_type": "execute_result"
    }
   ],
   "source": [
    "#4) Convert an existing NumPy array 'arr' of integers to float32 data type\n",
    "arr2=np.array([1,2,3,4])\n",
    "arr3=arr2.astype(np.float32)\n",
    "arr3"
   ]
  },
  {
   "cell_type": "code",
   "execution_count": null,
   "id": "af736c55",
   "metadata": {},
   "outputs": [
    {
     "data": {
      "text/plain": [
       "dtype('float32')"
      ]
     },
     "execution_count": 21,
     "metadata": {},
     "output_type": "execute_result"
    }
   ],
   "source": [
    "arr3.dtype"
   ]
  },
  {
   "cell_type": "code",
   "execution_count": null,
   "id": "4ab148af",
   "metadata": {},
   "outputs": [
    {
     "data": {
      "text/plain": [
       "dtype('float64')"
      ]
     },
     "execution_count": 22,
     "metadata": {},
     "output_type": "execute_result"
    }
   ],
   "source": [
    "#5) Given a NumPy array 'arr' with float64 data type, convert it to float32 to reduce decimal precision\n",
    "p=np.array([1.2,3.5,6.8])\n",
    "p.dtype"
   ]
  },
  {
   "cell_type": "code",
   "execution_count": null,
   "id": "77807161",
   "metadata": {},
   "outputs": [
    {
     "data": {
      "text/plain": [
       "array([1.2, 3.5, 6.8], dtype=float32)"
      ]
     },
     "execution_count": 24,
     "metadata": {},
     "output_type": "execute_result"
    }
   ],
   "source": [
    "q=p.astype(np.float32)\n",
    "q"
   ]
  },
  {
   "cell_type": "code",
   "execution_count": null,
   "id": "5b5bb567",
   "metadata": {},
   "outputs": [
    {
     "data": {
      "text/plain": [
       "((2, 3), 6, dtype('int32'))"
      ]
     },
     "execution_count": 38,
     "metadata": {},
     "output_type": "execute_result"
    }
   ],
   "source": [
    "#6) Write a function array_attributes that takes a NumPy array as input and returns its shape, size, and data \n",
    "#type\n",
    "import numpy as np\n",
    "\n",
    "def array_attributes(arr):\n",
    "    shape=arr.shape\n",
    "    size=arr.size\n",
    "    data_type=arr.dtype\n",
    "    return shape,size,data_type\n",
    "\n",
    "a= array_attributes(np.array([[1,2,3],[5,4,9]]))\n",
    "a\n"
   ]
  },
  {
   "cell_type": "code",
   "execution_count": null,
   "id": "a1329e77",
   "metadata": {},
   "outputs": [
    {
     "data": {
      "text/plain": [
       "3"
      ]
     },
     "execution_count": 40,
     "metadata": {},
     "output_type": "execute_result"
    }
   ],
   "source": [
    "#7)Create a function array_dimension that takes a NumPy array as input and returns its dimensionality\n",
    "\n",
    "def array_dimension(arr1):\n",
    "    dimension=arr1.ndim\n",
    "    return dimension\n",
    "b=array_dimension(np.array([[[1,2,3],[5,4,9]]]))\n",
    "b"
   ]
  },
  {
   "cell_type": "code",
   "execution_count": null,
   "id": "8e056265",
   "metadata": {},
   "outputs": [
    {
     "data": {
      "text/plain": [
       "(4, 16)"
      ]
     },
     "execution_count": 46,
     "metadata": {},
     "output_type": "execute_result"
    }
   ],
   "source": [
    "'''8). Design a function item_size_info that takes a NumPy array as input and returns the item size and the total \n",
    "size in bytes.'''\n",
    "def item_size_info(arr2):\n",
    "    item_size=arr2.itemsize\n",
    "    size_in_byte=arr2.nbytes\n",
    "    return item_size,size_in_byte\n",
    "    \n",
    "a= item_size_info(np.random.randint(1,3,(2,2)))\n",
    "a\n",
    "    \n"
   ]
  },
  {
   "cell_type": "code",
   "execution_count": null,
   "id": "e47646d5",
   "metadata": {},
   "outputs": [
    {
     "data": {
      "text/plain": [
       "(8, 4)"
      ]
     },
     "execution_count": 47,
     "metadata": {},
     "output_type": "execute_result"
    }
   ],
   "source": [
    "'''9) Create a function array_strides that takes a NumPy array as input and returns the strides of the array.'''\n",
    "\n",
    "def array_strides(str):\n",
    "    strides=str.strides\n",
    "    return strides\n",
    "a=array_strides(np.random.randint(1,3,(2,2)))\n",
    "a\n",
    "   "
   ]
  },
  {
   "cell_type": "code",
   "execution_count": null,
   "id": "e9e0a2be",
   "metadata": {},
   "outputs": [
    {
     "data": {
      "text/plain": [
       "(8, 4)"
      ]
     },
     "execution_count": 59,
     "metadata": {},
     "output_type": "execute_result"
    }
   ],
   "source": [
    "'''10) Design a function shape_stride_relationship that takes a NumPy array as input and returns the shape \n",
    "and strides of the array.'''\n",
    "\n",
    "def shape_stride_relationship(shape_stride):\n",
    "    shape=shape_stride.shape\n",
    "    \n",
    "    strides=shape_stride.strides\n",
    "    return shape,strides\n",
    "a=array_strides(np.random.randint(1,3,(2,2)))\n",
    "a\n",
    "  \n",
    "    \n",
    "    \n"
   ]
  },
  {
   "cell_type": "code",
   "execution_count": null,
   "id": "67ade9c1",
   "metadata": {},
   "outputs": [
    {
     "data": {
      "text/plain": [
       "array([0., 0., 0., 0., 0.])"
      ]
     },
     "execution_count": 60,
     "metadata": {},
     "output_type": "execute_result"
    }
   ],
   "source": [
    "'''11)1. Create a function `create_zeros_array` that takes an integer `n` as input and returns a NumPy array of \n",
    "zeros with `n` elements.'''\n",
    "\n",
    "def create_zeros_array(n):\n",
    "    return np.zeros(n)\n",
    "zeros=create_zeros_array(5)\n",
    "zeros"
   ]
  },
  {
   "cell_type": "code",
   "execution_count": null,
   "id": "91c64f17",
   "metadata": {},
   "outputs": [
    {
     "data": {
      "text/plain": [
       "array([[1., 1., 1., 1.],\n",
       "       [1., 1., 1., 1.],\n",
       "       [1., 1., 1., 1.]])"
      ]
     },
     "execution_count": 3,
     "metadata": {},
     "output_type": "execute_result"
    }
   ],
   "source": [
    "'''12)Write a function `create_ones_matrix` that takes integers `rows` and `cols` as inputs and generates a 2D \n",
    "NumPy array filled with ones of size `rows x cols`.'''\n",
    "import numpy as np\n",
    "def create_ones_matrix(i,j):\n",
    "    return np.ones([i,j])\n",
    "ones=create_ones_matrix(3,4)\n",
    "ones\n",
    "\n"
   ]
  },
  {
   "cell_type": "code",
   "execution_count": null,
   "id": "05543df5",
   "metadata": {},
   "outputs": [
    {
     "data": {
      "text/plain": [
       "2"
      ]
     },
     "execution_count": 4,
     "metadata": {},
     "output_type": "execute_result"
    }
   ],
   "source": [
    "ones.ndim\n"
   ]
  },
  {
   "cell_type": "code",
   "execution_count": null,
   "id": "dce99e6c",
   "metadata": {},
   "outputs": [
    {
     "data": {
      "text/plain": [
       "array([ 1,  3,  5,  7,  9, 11, 13, 15, 17, 19])"
      ]
     },
     "execution_count": 6,
     "metadata": {},
     "output_type": "execute_result"
    }
   ],
   "source": [
    "'''13) Write a function `generate_range_array` that takes three integers start, stop, and step as arguments and \n",
    "creates a NumPy array with a range starting from `start`, ending at stop (exclusive), and with the specified \n",
    "`step`'''\n",
    "def generate_range_array(start,stop,step):\n",
    "    return np.arange(start,stop,step)\n",
    "range1=generate_range_array(1,20,2)\n",
    "range1"
   ]
  },
  {
   "cell_type": "code",
   "execution_count": null,
   "id": "00be4462",
   "metadata": {},
   "outputs": [
    {
     "data": {
      "text/plain": [
       "array([1.1  , 1.375, 1.65 , 1.925, 2.2  ])"
      ]
     },
     "execution_count": 7,
     "metadata": {},
     "output_type": "execute_result"
    }
   ],
   "source": [
    "'''14)Design a function `generate_linear_space` that takes two floats `start`, `stop`, and an integer `num` as \n",
    "arguments and generates a NumPy array with num equally spaced values between `start` and `stop` \n",
    "(inclusive).'''\n",
    "\n",
    "def generate_linear_space(start,stop,step):\n",
    "    return np.linspace(start,stop,step)\n",
    "range2=generate_linear_space(1.1,2.2,5)\n",
    "range2"
   ]
  },
  {
   "cell_type": "code",
   "execution_count": null,
   "id": "4fcc1232",
   "metadata": {},
   "outputs": [
    {
     "data": {
      "text/plain": [
       "array([[1., 0., 0., 0., 0.],\n",
       "       [0., 1., 0., 0., 0.],\n",
       "       [0., 0., 1., 0., 0.],\n",
       "       [0., 0., 0., 1., 0.],\n",
       "       [0., 0., 0., 0., 1.]])"
      ]
     },
     "execution_count": 8,
     "metadata": {},
     "output_type": "execute_result"
    }
   ],
   "source": [
    "'''15)Create a function `create_identity_matrix` that takes an integer `n` as input and generates a square \n",
    "identity matrix of size `n x n` using `numpy.eye'''\n",
    "\n",
    "def create_identity_matrix(n):\n",
    "    return np.eye(n)\n",
    "identity=create_identity_matrix(5)\n",
    "identity"
   ]
  },
  {
   "cell_type": "code",
   "execution_count": null,
   "id": "27026891",
   "metadata": {},
   "outputs": [
    {
     "data": {
      "text/plain": [
       "array(['1', '2', '3', '4.5', 'pragati', 'True'], dtype='<U32')"
      ]
     },
     "execution_count": 10,
     "metadata": {},
     "output_type": "execute_result"
    }
   ],
   "source": [
    "'''16) Write a function that takes a Python list and converts it into a NumPy array'''\n",
    "l=[1,2,3,4.5,\"pragati\",True]\n",
    "np.array(l)"
   ]
  },
  {
   "cell_type": "code",
   "execution_count": null,
   "id": "f1325fb2",
   "metadata": {},
   "outputs": [
    {
     "name": "stdout",
     "output_type": "stream",
     "text": [
      "orignal array is [ 5  6  7  8 10]\n",
      "new array is [ 5  6  7  8 10]\n"
     ]
    }
   ],
   "source": [
    "'''17) Create a NumPy array and demonstrate the use of `numpy.view` to create a new array object with the \n",
    "same data.'''\n",
    "import numpy as np\n",
    "arr=np.array([5,6,7,8,10])\n",
    "print(\"orignal array is\",arr)\n",
    "new_array=arr.view()\n",
    "print(\"new array is\",new_array)"
   ]
  },
  {
   "cell_type": "code",
   "execution_count": null,
   "id": "5047f146",
   "metadata": {},
   "outputs": [
    {
     "data": {
      "text/plain": [
       "array([1, 2, 3, 4, 5, 6, 7])"
      ]
     },
     "execution_count": 15,
     "metadata": {},
     "output_type": "execute_result"
    }
   ],
   "source": [
    "'''18) Write a function that takes two NumPy arrays and concatenates them along a specified axis.'''\n",
    "\n",
    "def concatenate_arary(array1,array2,axis=0):\n",
    "    return np.concatenate((array1,array2),axis=0)\n",
    "array1=np.array([1,2,3,4])\n",
    "array2=np.array([5,6,7])\n",
    "result=concatenate_arary(array1,array2,axis=0)\n",
    "result"
   ]
  },
  {
   "cell_type": "code",
   "execution_count": null,
   "id": "749b1f6b",
   "metadata": {},
   "outputs": [
    {
     "data": {
      "text/plain": [
       "array([[ 1,  2,  3,  7,  8],\n",
       "       [ 4,  5,  6,  9, 10]])"
      ]
     },
     "execution_count": 28,
     "metadata": {},
     "output_type": "execute_result"
    }
   ],
   "source": [
    "'''19) Create two NumPy arrays with different shapes and concatenate them horizontally using `numpy.concatenate'''\n",
    "\n",
    "array1=np.array([[1,2,3],[4,5,6]])\n",
    "\n",
    "array2=np.array([[7,8],[9,10]])\n",
    "result =np.concatenate((array1, array2), axis=1)\n",
    "result"
   ]
  },
  {
   "cell_type": "code",
   "execution_count": null,
   "id": "5508834c",
   "metadata": {},
   "outputs": [
    {
     "data": {
      "text/plain": [
       "array([[ 1,  2,  3],\n",
       "       [ 4,  5,  6],\n",
       "       [ 8, 10, 55]])"
      ]
     },
     "execution_count": 31,
     "metadata": {},
     "output_type": "execute_result"
    }
   ],
   "source": [
    "'''20) Write a function that vertically stacks multiple NumPy arrays given as a list'''\n",
    "import numpy as np\n",
    "def vertically_stacks(array):\n",
    "    return np.vstack(array)\n",
    "array1=np.array([[1,2,3],[4,5,6],[8,10,55]])\n",
    "verticalstack=vertically_stacks(array1)\n",
    "verticalstack"
   ]
  },
  {
   "cell_type": "code",
   "execution_count": null,
   "id": "55520ccc",
   "metadata": {},
   "outputs": [
    {
     "data": {
      "text/plain": [
       "array([ 0,  2,  4,  6,  8, 10])"
      ]
     },
     "execution_count": 4,
     "metadata": {},
     "output_type": "execute_result"
    }
   ],
   "source": [
    "'''21) Write a Python function using NumPy to create an array of integers within a specified range (inclusive) \n",
    "with a given step size'''\n",
    "import numpy as np\n",
    "def int_array(start,end,step):\n",
    "    return np.arange(start,end+1,step,dtype=int)\n",
    "result=int_array(0,10,2)\n",
    "result\n",
    "\n"
   ]
  },
  {
   "cell_type": "code",
   "execution_count": null,
   "id": "af3cf580",
   "metadata": {},
   "outputs": [
    {
     "data": {
      "text/plain": [
       "array([0.        , 0.11111111, 0.22222222, 0.33333333, 0.44444444,\n",
       "       0.55555556, 0.66666667, 0.77777778, 0.88888889, 1.        ])"
      ]
     },
     "execution_count": 7,
     "metadata": {},
     "output_type": "execute_result"
    }
   ],
   "source": [
    "'''22). Write a Python function using NumPy to generate an array of 10 equally spaced values between 0 and 1 \n",
    "(inclusive)'''\n",
    "def array():\n",
    "    return np.linspace(0,1,10)\n",
    "b= array()\n",
    "b\n",
    "\n"
   ]
  },
  {
   "cell_type": "code",
   "execution_count": null,
   "id": "63b5f25f",
   "metadata": {},
   "outputs": [
    {
     "name": "stderr",
     "output_type": "stream",
     "text": [
      "C:\\Users\\praga\\AppData\\Local\\Programs\\Python\\Python310\\lib\\site-packages\\numpy\\core\\function_base.py:284: RuntimeWarning: overflow encountered in power\n",
      "  return _nx.power(base, y)\n"
     ]
    },
    {
     "data": {
      "text/plain": [
       "array([1.00000000e+001, 5.62341325e+250,             inf,             inf,\n",
       "                   inf])"
      ]
     },
     "execution_count": 8,
     "metadata": {},
     "output_type": "execute_result"
    }
   ],
   "source": [
    "'''23) Write a Python function using NumPy to create an array of 5 logarithmically spaced values between 1 and \n",
    "1000 (inclusive)'''\n",
    "def log_fun():\n",
    "    return np.logspace(1,1000,5)\n",
    "fun=log_fun()\n",
    "fun"
   ]
  },
  {
   "cell_type": "code",
   "execution_count": null,
   "id": "62dc5e0d",
   "metadata": {},
   "outputs": [],
   "source": [
    "#!pip install pandas\n",
    "\n",
    "\n",
    "\n"
   ]
  },
  {
   "cell_type": "code",
   "execution_count": null,
   "id": "514dd883",
   "metadata": {},
   "outputs": [
    {
     "name": "stdout",
     "output_type": "stream",
     "text": [
      "   col_1  col_2  col_3\n",
      "0     40     78     37\n",
      "1     82     98     95\n",
      "2      5     35     17\n",
      "3     38     51     48\n",
      "4     69     78     71\n"
     ]
    }
   ],
   "source": [
    "'''24) Create a Pandas DataFrame using a NumPy array that contains 5 rows and 3 columns, where the values \n",
    "are random integers between 1 and 100.'''\n",
    "import numpy as np\n",
    "import pandas as pd\n",
    "array=np.random.randint(1, 101, size=(5, 3))\n",
    "df=pd.DataFrame(array,columns=['col_1','col_2','col_3'])\n",
    "print(df) \n",
    "                       "
   ]
  },
  {
   "cell_type": "code",
   "execution_count": 64,
   "id": "1eaeec42",
   "metadata": {},
   "outputs": [
    {
     "name": "stdout",
     "output_type": "stream",
     "text": [
      "   d1  d2\n",
      "0   1   5\n",
      "1   2 -10\n",
      "2  -4   3\n",
      "3  -9  -8\n"
     ]
    },
    {
     "data": {
      "text/html": [
       "<div>\n",
       "<style scoped>\n",
       "    .dataframe tbody tr th:only-of-type {\n",
       "        vertical-align: middle;\n",
       "    }\n",
       "\n",
       "    .dataframe tbody tr th {\n",
       "        vertical-align: top;\n",
       "    }\n",
       "\n",
       "    .dataframe thead th {\n",
       "        text-align: right;\n",
       "    }\n",
       "</style>\n",
       "<table border=\"1\" class=\"dataframe\">\n",
       "  <thead>\n",
       "    <tr style=\"text-align: right;\">\n",
       "      <th></th>\n",
       "      <th>d1</th>\n",
       "      <th>d2</th>\n",
       "    </tr>\n",
       "  </thead>\n",
       "  <tbody>\n",
       "    <tr>\n",
       "      <th>0</th>\n",
       "      <td>1</td>\n",
       "      <td>5</td>\n",
       "    </tr>\n",
       "    <tr>\n",
       "      <th>1</th>\n",
       "      <td>2</td>\n",
       "      <td>-10</td>\n",
       "    </tr>\n",
       "    <tr>\n",
       "      <th>2</th>\n",
       "      <td>0</td>\n",
       "      <td>3</td>\n",
       "    </tr>\n",
       "    <tr>\n",
       "      <th>3</th>\n",
       "      <td>0</td>\n",
       "      <td>-8</td>\n",
       "    </tr>\n",
       "  </tbody>\n",
       "</table>\n",
       "</div>"
      ],
      "text/plain": [
       "   d1  d2\n",
       "0   1   5\n",
       "1   2 -10\n",
       "2   0   3\n",
       "3   0  -8"
      ]
     },
     "execution_count": 64,
     "metadata": {},
     "output_type": "execute_result"
    }
   ],
   "source": [
    "'''25) Write a function that takes a Pandas DataFrame and replaces all negative values in a specific column \n",
    "with zeros. Use NumPy operations within the Pandas DataFrame'''\n",
    "import numpy as np\n",
    "import pandas as pd\n",
    "def replace_negative(df1,column):\n",
    "    \n",
    "    df1[column] = np.where(df1[column] <0, 0, df1[column])\n",
    "    return df1\n",
    "info={\n",
    "    'd1':[1,2,-4,-9],\n",
    "    'd2':[5,-10,3,-8]\n",
    "}\n",
    "df1=pd.DataFrame(info)\n",
    "print(df1)\n",
    "df1=replace_negative(df1,'d1')\n",
    "df1\n",
    "    "
   ]
  },
  {
   "cell_type": "code",
   "execution_count": null,
   "id": "028213db",
   "metadata": {},
   "outputs": [
    {
     "data": {
      "text/plain": [
       "40"
      ]
     },
     "execution_count": 9,
     "metadata": {},
     "output_type": "execute_result"
    }
   ],
   "source": [
    "'''26)6. Access the 3rd element from the given NumPy array.\n",
    "arr = np.array([10, 20, 30, 40, 50])'''\n",
    "arr = np.array([10, 20, 30, 40, 50])\n",
    "arr2=arr[3]\n",
    "arr2\n"
   ]
  },
  {
   "cell_type": "code",
   "execution_count": null,
   "id": "d53256b2",
   "metadata": {},
   "outputs": [
    {
     "data": {
      "text/plain": [
       "6"
      ]
     },
     "execution_count": 10,
     "metadata": {},
     "output_type": "execute_result"
    }
   ],
   "source": [
    "'''27) Retrieve the element at index (1, 2) from the 2D NumPy array.\n",
    "arr_2d = np.array([[1, 2, 3], ",
    "\n",
    "\n",
    "                   [4, 5, 6], ",
    "\n",
    "\n",
    "                   [7, 8, 9]])'''\n",
    "import numpy as np\n",
    "arr_2d = np.array([[1, 2, 3],\n",
    "                   [4, 5, 6],\n",
    "                   [7, 8, 9]])\n",
    "arr=arr_2d[1,2]\n",
    "arr"
   ]
  },
  {
   "cell_type": "code",
   "execution_count": null,
   "id": "976c5dcf",
   "metadata": {},
   "outputs": [
    {
     "name": "stdout",
     "output_type": "stream",
     "text": [
      "[ 8 10  7]\n"
     ]
    }
   ],
   "source": [
    "'''28) Using boolean indexing, extract elements greater than 5 from the given NumPy array\n",
    "arr = np.array([3, 8, 2, 10, 5, 7])''' \n",
    "arr = np.array([3, 8, 2, 10, 5, 7])\n",
    "max_5=arr>5\n",
    "greater_than_five=arr[max_5]\n",
    "print(greater_than_five)\n",
    "\n"
   ]
  },
  {
   "cell_type": "code",
   "execution_count": null,
   "id": "dfc80c21",
   "metadata": {},
   "outputs": [
    {
     "data": {
      "text/plain": [
       "array([3, 4, 5])"
      ]
     },
     "execution_count": 12,
     "metadata": {},
     "output_type": "execute_result"
    }
   ],
   "source": [
    "'''29) Perform basic slicing to extract elements from index 2 to 5 (inclusive) from the given NumPy array\n",
    "arr = np.array([1, 2, 3, 4, 5, 6, 7, 8, 9])'''\n",
    "arr = np.array([1, 2, 3, 4, 5, 6, 7, 8, 9])\n",
    "arr[2:5]"
   ]
  },
  {
   "cell_type": "code",
   "execution_count": null,
   "id": "5c9688a5",
   "metadata": {},
   "outputs": [
    {
     "data": {
      "text/plain": [
       "array([[2, 3],\n",
       "       [5, 6]])"
      ]
     },
     "execution_count": 18,
     "metadata": {},
     "output_type": "execute_result"
    }
   ],
   "source": [
    "'''30) Slice the 2D NumPy array to extract the sub-array `[[2, 3], [5, 6]]` from the given array\n",
    "arr_2d = np.array([[1, 2, 3],\n",
    "                   [4, 5, 6],\n",
    "                   [7, 8, 9]])'''\n",
    "\n",
    "arr_2d = np.array([[1, 2, 3],\n",
    "                   [4, 5, 6],\n",
    "                   [7, 8, 9]])\n",
    "arr_2d[0:2,1:3]\n",
    "\n",
    "\n"
   ]
  },
  {
   "cell_type": "code",
   "execution_count": null,
   "id": "ebaf3eb1",
   "metadata": {},
   "outputs": [
    {
     "data": {
      "text/plain": [
       "array([4, 6, 8])"
      ]
     },
     "execution_count": 30,
     "metadata": {},
     "output_type": "execute_result"
    }
   ],
   "source": [
    "'''31).Write a NumPy function to extract elements in specific order from a given 2D array based on indices \n",
    "provided in another array.'''\n",
    "\n",
    "import numpy as np\n",
    "def extract_element(arr,indices):\n",
    "    extracted_elements =arr[indices[:, 0], indices[:, 1]]\n",
    "    return extracted_elements\n",
    "arr=np.array([[2,3,4],\n",
    "             [8,5,6],\n",
    "             [7,8,3]])\n",
    "indice=np.array([[0,2],[1,2],[2,1]])\n",
    "result=extract_element(arr,indice)\n",
    "result"
   ]
  },
  {
   "cell_type": "code",
   "execution_count": null,
   "id": "61997dd0",
   "metadata": {},
   "outputs": [
    {
     "data": {
      "text/plain": [
       "array([ 9,  8, 10, 15, 20])"
      ]
     },
     "execution_count": 32,
     "metadata": {},
     "output_type": "execute_result"
    }
   ],
   "source": [
    "'''32). Create a NumPy function that filters elements greater than a threshold from a given 1D array using \n",
    "boolean indexing'''\n",
    "\n",
    "def greater_than_a_threshold(array,threshold):\n",
    "    a= array>threshold\n",
    "    b=array[a]\n",
    "    return b\n",
    "\n",
    "array1=np.array([1,2,9,8,10,15,20])\n",
    "threshold=6\n",
    "result=greater_than_a_threshold(array1,threshold)\n",
    "result\n",
    "\n",
    "\n"
   ]
  },
  {
   "cell_type": "code",
   "execution_count": null,
   "id": "fc1fb4af",
   "metadata": {},
   "outputs": [
    {
     "name": "stdout",
     "output_type": "stream",
     "text": [
      "[[[0.10982074 0.47629675 0.49569613]\n",
      "  [0.47850416 0.68582158 0.89742191]\n",
      "  [0.9652992  0.01367923 0.47834072]]\n",
      "\n",
      " [[0.05201605 0.64911874 0.19327378]\n",
      "  [0.19313664 0.25892061 0.80250792]\n",
      "  [0.78514721 0.11270084 0.7440933 ]]\n",
      "\n",
      " [[0.45821312 0.3767358  0.68341126]\n",
      "  [0.26907883 0.18706846 0.74448962]\n",
      "  [0.75649657 0.90864534 0.86209917]]]\n",
      "extracted element\n",
      "[0.89742191 0.11270084 0.3767358 ]\n"
     ]
    }
   ],
   "source": [
    "'''33) Develop a NumPy function that extracts specific elements from a 3D array using indices provided in three \n",
    "separate arrays for each dimension'''\n",
    "import numpy as np\n",
    "def extract(array,inx1,inx2,inx3):\n",
    "    if (len(inx1)!=len(inx2) or len(inx2)!=len(inx3)):\n",
    "        print(\"index array must have same length\")\n",
    "    \n",
    "    \n",
    "    inx1= np.asarray(inx1)\n",
    "    inx2= np.asarray(inx2)\n",
    "    inx3= np.asarray(inx3)\n",
    "    extreacted_element=array[inx1,inx2,inx3]\n",
    "    return extreacted_element\n",
    "\n",
    "array1=np.random.rand(3,3,3)\n",
    "print(array1)\n",
    "\n",
    "inx1= [0,1,2]\n",
    "inx2= [1,2,0]\n",
    "inx3= [2,1,1]\n",
    "\n",
    "result=extract(array1,inx1,inx2,inx3)\n",
    "print(\"extracted element\")\n",
    "print(result)\n",
    "        \n",
    "    \n",
    "\n"
   ]
  },
  {
   "cell_type": "code",
   "execution_count": 75,
   "id": "2f689584",
   "metadata": {},
   "outputs": [
    {
     "name": "stdout",
     "output_type": "stream",
     "text": [
      "[6 8]\n"
     ]
    }
   ],
   "source": [
    "'''34) Write a NumPy function that returns elements from an array where both two conditions are satisfied \n",
    "using boolean indexing.'''\n",
    "import numpy as np\n",
    "def conditions(arr, condition1, condition2):\n",
    "    a = arr[(condition1) & (condition2)]\n",
    "    return a\n",
    "\n",
    "\n",
    "arr = np.array([1, 2, 3, 4, 5, 6, 7, 8, 9])\n",
    "\n",
    "condition1 = arr % 2 == 0\n",
    "\n",
    "condition2 = arr > 5\n",
    "\n",
    "result = conditions(arr, condition1, condition2)\n",
    "print(result)\n"
   ]
  },
  {
   "cell_type": "code",
   "execution_count": 70,
   "id": "b28fbcc1",
   "metadata": {},
   "outputs": [
    {
     "name": "stdout",
     "output_type": "stream",
     "text": [
      "[[ 6 19  6]\n",
      " [ 9 19 19]\n",
      " [12  2 18]]\n",
      "extracted elements\n",
      "[19 19 12]\n"
     ]
    }
   ],
   "source": [
    "'''35)Create a NumPy function that extracts elements from a 2D array using row and column indices provided \n",
    "in separate arrays'''\n",
    "\n",
    "import numpy as np\n",
    "def extract(array,row,column):\n",
    "    if len(row)!=len(column):\n",
    "        print(\"index array must have same length\")\n",
    "        return None\n",
    "        \n",
    "    row= np.asarray(row)\n",
    "    column= np.asarray(column)\n",
    "    extracte_element=array[row,column]\n",
    "    return extracte_element\n",
    "    \n",
    "array=np.random.randint(1,20,size=(3,3))\n",
    "print(array)\n",
    "row= [0,1,2]\n",
    "column= [1,2,0]\n",
    "result=extract(array,row,column)\n",
    "print(\"extracted elements\")\n",
    "print(result)"
   ]
  },
  {
   "cell_type": "code",
   "execution_count": null,
   "id": "4ef3c8b7",
   "metadata": {},
   "outputs": [],
   "source": [
    "'''36). Given an array arr of shape (3, 3), add a scalar value of 5 to each element using NumPy broadcasting'''"
   ]
  },
  {
   "cell_type": "code",
   "execution_count": null,
   "id": "e4d07bd9",
   "metadata": {},
   "outputs": [
    {
     "data": {
      "text/plain": [
       "array([[7, 6, 7],\n",
       "       [6, 7, 6],\n",
       "       [7, 6, 7]])"
      ]
     },
     "execution_count": 61,
     "metadata": {},
     "output_type": "execute_result"
    }
   ],
   "source": [
    "import numpy as np\n",
    "arr_1=np.random.randint(1,3,(3,3))\n",
    "arr_1\n",
    "a=np.array([5])\n",
    "b=arr_1+a\n",
    "b\n"
   ]
  },
  {
   "cell_type": "code",
   "execution_count": null,
   "id": "6d89fd9f",
   "metadata": {},
   "outputs": [
    {
     "name": "stdout",
     "output_type": "stream",
     "text": [
      "array_1 [[1 1 1]]\n",
      "array_2 [[1 2 1 2]\n",
      " [1 2 2 1]\n",
      " [1 2 1 2]]\n",
      "multiplication is [[3 6 4 5]]\n"
     ]
    }
   ],
   "source": [
    "'''37) Consider two arrays arr1 of shape (1, 3) and arr2 of shape (3, 4). Multiply each row of arr2 by the \n",
    "corresponding element in arr1 using NumPy broadcasting'''\n",
    "arr_1=np.random.randint(1,3,(1,3))\n",
    "print(\"array_1\",arr_1)\n",
    "arr_2=np.random.randint(1,3,(3,4))\n",
    "print(\"array_2\",arr_2)\n",
    "b=arr_1 @ arr_2\n",
    "print(\"multiplication is\",b)\n"
   ]
  },
  {
   "cell_type": "code",
   "execution_count": null,
   "id": "c3f00a8b",
   "metadata": {},
   "outputs": [
    {
     "data": {
      "text/plain": [
       "array([[ 2,  3,  4],\n",
       "       [ 8,  9, 10],\n",
       "       [10, 11, 12],\n",
       "       [15, 16, 17]])"
      ]
     },
     "execution_count": 83,
     "metadata": {},
     "output_type": "execute_result"
    }
   ],
   "source": [
    "'''38). Given a 1D array arr1 of shape (1, 4) and a 2D array arr2 of shape (4, 3), add arr1 to each row of arr2 using \n",
    "NumPy broadcasting.'''\n",
    "import numpy as np\n",
    "arr1=np.array([1,4,3,5]).reshape(1,4)\n",
    "arr1.shape\n",
    "arr2=np.array([[1,2,3,],\n",
    "              [4,5,6],\n",
    "              [7,8,9],\n",
    "              [10,11,12]])\n",
    "reshape_arr2=arr2.reshape(4,3)\n",
    "reshape_arr2.shape\n",
    "result=reshape_arr2+arr1.T\n",
    "result\n"
   ]
  },
  {
   "cell_type": "code",
   "execution_count": null,
   "id": "49104cd9",
   "metadata": {},
   "outputs": [
    {
     "name": "stdout",
     "output_type": "stream",
     "text": [
      "array1 [[1]\n",
      " [4]\n",
      " [3]]\n",
      "array_2 [[1 4 3]]\n"
     ]
    },
    {
     "data": {
      "text/plain": [
       "array([[2, 5, 4],\n",
       "       [5, 8, 7],\n",
       "       [4, 7, 6]])"
      ]
     },
     "execution_count": 7,
     "metadata": {},
     "output_type": "execute_result"
    }
   ],
   "source": [
    "'''39) Consider two arrays arr1 of shape (3, 1) and arr2 of shape (1, 3). Add these arrays using NumPy \n",
    "broadcasting.'''\n",
    "import numpy as np\n",
    "arr1=np.array([1,4,3]).reshape(3,1)\n",
    "print(\"array1\",arr1)\n",
    "arr2=np.array([1,4,3]).reshape(1,3)\n",
    "print(\"array_2\",arr2)\n",
    "add=arr1+arr2\n",
    "add"
   ]
  },
  {
   "cell_type": "code",
   "execution_count": null,
   "id": "428be422",
   "metadata": {},
   "outputs": [
    {
     "data": {
      "text/plain": [
       "array([[[ 1,  4,  3],\n",
       "        [ 8, 12, 24]],\n",
       "\n",
       "       [[ 2,  8,  6],\n",
       "        [ 6,  9, 18]]])"
      ]
     },
     "execution_count": 21,
     "metadata": {},
     "output_type": "execute_result"
    }
   ],
   "source": [
    "'''40)Given arrays arr1 of shape (2, 3) and arr2 of shape (2, 2), perform multiplication using NumPy \n",
    "broadcasting. Handle the shape incompatibility.'''\n",
    "arr1=np.array([[1,4,3],[2,3,6]]).reshape(2,3)\n",
    "arr2=np.array([[1,4],[2,3]]).reshape(2,2)\n",
    "arr2_reshape=arr2[:, :, np.newaxis]\n",
    "mult=arr1 * arr2_reshape\n",
    "mult\n",
    "\n"
   ]
  },
  {
   "cell_type": "code",
   "execution_count": null,
   "id": "61f9b8a0",
   "metadata": {},
   "outputs": [
    {
     "name": "stdout",
     "output_type": "stream",
     "text": [
      "column wise mean is: [2.5 3.5 4.5]\n"
     ]
    }
   ],
   "source": [
    "'''41) Calculate column wise mean for the given array\n",
    "\n",
    "arr = np.array([[1, 2, 3], [4, 5, 6]])'''\n",
    "\n",
    "arr = np.array([[1, 2, 3], [4, 5, 6]])\n",
    "column_wisw_mean=np.mean(arr,axis=0)\n",
    "print(\"column wise mean is:\",column_wisw_mean)\n"
   ]
  },
  {
   "cell_type": "code",
   "execution_count": null,
   "id": "11fceb15",
   "metadata": {},
   "outputs": [
    {
     "name": "stdout",
     "output_type": "stream",
     "text": [
      "maximum value is: 6\n"
     ]
    }
   ],
   "source": [
    "'''42) Find maximum value in each row of the given array\n",
    "arr = np.array([[1, 2, 3], [4, 5, 6]])'''\n",
    "\n",
    "arr = np.array([[1, 2, 3], [4, 5, 6]])\n",
    "max_value=np.max(arr)\n",
    "print(\"maximum value is:\",max_value)"
   ]
  },
  {
   "cell_type": "code",
   "execution_count": null,
   "id": "1cd31896",
   "metadata": {},
   "outputs": [
    {
     "data": {
      "text/plain": [
       "array([1, 1, 1], dtype=int64)"
      ]
     },
     "execution_count": 31,
     "metadata": {},
     "output_type": "execute_result"
    }
   ],
   "source": [
    "'''43) For the given array, find indices of maximum value in each column.\n",
    "arr = np.array([[1, 2, 3], [4, 5, 6]])'''\n",
    "\n",
    "arr = np.array([[1, 2, 3], [4, 5, 6]])\n",
    "max_indices=np.argmax(arr,axis=0)\n",
    "max_indices\n"
   ]
  },
  {
   "cell_type": "code",
   "execution_count": 61,
   "id": "25087b16",
   "metadata": {},
   "outputs": [],
   "source": [
    "'''44) For the given array, apply custom function to calculate moving sum along rows\n",
    "arr = np.array([[1, 2, 3], [4, 5, 6]])'''\n",
    "\n",
    "arr = np.array([[1, 2, 3], [4, 5, 6]])\n",
    "   "
   ]
  },
  {
   "cell_type": "code",
   "execution_count": null,
   "id": "75fbd6de",
   "metadata": {},
   "outputs": [
    {
     "data": {
      "text/plain": [
       "array([False, False, False])"
      ]
     },
     "execution_count": 37,
     "metadata": {},
     "output_type": "execute_result"
    }
   ],
   "source": [
    "'''45) In the given array, check if all elements in each column are even\n",
    "arr = np.array([[2, 4, 6], [3, 5, 7]])'''\n",
    "\n",
    "arr = np.array([[2, 4, 6], [3, 5, 7]])\n",
    "even=np.all(arr %2 ==0 ,axis=0)\n",
    "even"
   ]
  },
  {
   "cell_type": "code",
   "execution_count": null,
   "id": "a2cf77a1",
   "metadata": {},
   "outputs": [
    {
     "name": "stdout",
     "output_type": "stream",
     "text": [
      "orignal array is: [1 2 3 4 5 6]\n",
      "reshaped matrix is: [[1 2 3]\n",
      " [4 5 6]]\n"
     ]
    }
   ],
   "source": [
    "'''46) Given a NumPy array arr, reshape it into a matrix of dimensions `m` rows and `n` columns. Return the \n",
    "reshaped matrix.\n",
    "original_array = np.array([1, 2, 3, 4, 5, 6])'''\n",
    "\n",
    "original_array = np.array([1, 2, 3, 4, 5, 6])\n",
    "print(\"orignal array is:\",original_array)\n",
    "reshaped_matrix=original_array.reshape(2,3)\n",
    "print(\"reshaped matrix is:\"\n",
    "      ,reshaped_matrix)\n",
    "\n"
   ]
  },
  {
   "cell_type": "code",
   "execution_count": null,
   "id": "f2b77df4",
   "metadata": {},
   "outputs": [
    {
     "data": {
      "text/plain": [
       "array([1, 2, 3, 4, 5, 6])"
      ]
     },
     "execution_count": 46,
     "metadata": {},
     "output_type": "execute_result"
    }
   ],
   "source": [
    "'''47)Create a function that takes a matrix as input and returns the flattened array.\n",
    "input_matrix = np.array([[1, 2, 3], [4, 5, 6]])'''\n",
    "\n",
    "def flattened_array(arr):\n",
    "    return arr.flatten()\n",
    "result=flattened_array(np.array([[1, 2, 3], \n",
    "                                 [4, 5, 6]]))\n",
    "result\n",
    "\n"
   ]
  },
  {
   "cell_type": "code",
   "execution_count": null,
   "id": "9dd45f3e",
   "metadata": {},
   "outputs": [
    {
     "data": {
      "text/plain": [
       "array([[1, 2],\n",
       "       [3, 4],\n",
       "       [5, 6],\n",
       "       [7, 8]])"
      ]
     },
     "execution_count": 51,
     "metadata": {},
     "output_type": "execute_result"
    }
   ],
   "source": [
    "'''48)Write a function that concatenates two given arrays along a specified axis.\n",
    "array1 = np.array([[1, 2], [3, 4]]),\n",
    "array2 = np.array([[5, 6], [7, 8]])'''\n",
    "\n",
    "def array(arr1,arr2,axis=0):\n",
    "    concatenated_array=np.concatenate((arr1,arr2),axis=axis)\n",
    "    return concatenated_array\n",
    "\n",
    "array1 = np.array([[1, 2], [3, 4]])\n",
    "array2 = np.array([[5, 6], [7, 8]])\n",
    "\n",
    "result=array(array1,array2,axis=0)\n",
    "result\n"
   ]
  },
  {
   "cell_type": "code",
   "execution_count": null,
   "id": "3e9337d8",
   "metadata": {},
   "outputs": [
    {
     "name": "stdout",
     "output_type": "stream",
     "text": [
      "original array:\n",
      "[[1 2 3]\n",
      " [4 5 6]\n",
      " [7 8 9]]\n",
      "row wise spliting\n",
      "[array([[1],\n",
      "       [4],\n",
      "       [7]]), array([[2],\n",
      "       [5],\n",
      "       [8]]), array([[3],\n",
      "       [6],\n",
      "       [9]])]\n",
      "column wise spliting\n",
      "[array([[1, 2, 3],\n",
      "       [4, 5, 6]]), array([[7, 8, 9]])]\n"
     ]
    }
   ],
   "source": [
    "'''49) Create a function that splits an array into multiple sub-arrays along a specified axis.\n",
    "original_array = np.array([[1, 2, 3], [4, 5, 6], [7, 8, 9]])'''\n",
    "import numpy as np\n",
    "\n",
    "def split_array(array,index_no,axis=0):\n",
    "    split_arrays=np.array_split(array,index_no,axis=axis)\n",
    "    \n",
    "    return split_arrays\n",
    "\n",
    "original_array = np.array([[1, 2, 3], [4, 5, 6], [7, 8, 9]])\n",
    "print(\"original array:\")\n",
    "print(original_array)\n",
    "\n",
    "split_array1= split_array(original_array, 3 ,axis=1)\n",
    "print(\"row wise spliting\")\n",
    "print(split_array1)\n",
    "\n",
    "split_array0= split_array(original_array, 2 ,axis=0)\n",
    "print(\"column wise spliting\")\n",
    "print(split_array0)\n",
    "\n",
    "\n",
    "\n"
   ]
  },
  {
   "cell_type": "code",
   "execution_count": 58,
   "id": "14dddd36",
   "metadata": {},
   "outputs": [
    {
     "name": "stdout",
     "output_type": "stream",
     "text": [
      "[10  3 20  4  5]\n"
     ]
    }
   ],
   "source": [
    "'''50) Write a function that inserts and then deletes elements from a given array at specified indices\n",
    "original_array = np.array([1, 2, 3, 4, 5])\n",
    "\n",
    "indices_to_insert = [2, 4]\n",
    "\n",
    "values_to_insert = [10, 11]\n",
    "\n",
    "indices_to_delete = [1, 3]\n",
    "'''\n",
    "import numpy as np\n",
    "def fun_operation(original_array,indices_insert,values_insert,delete_indices):\n",
    "    original_array=np.insert(original_array,indices_insert,values_insert)\n",
    "    original_array=np.delete(original_array,delete_indices)\n",
    "    return original_array\n",
    "\n",
    "original_array=np.array([1, 2, 3, 4, 5])\n",
    "indices_insert=[2,3]\n",
    "values_insert=[10,20]\n",
    "delete_indices=[0,1]\n",
    "\n",
    "result=fun_operation(original_array,indices_insert,values_insert,delete_indices)\n",
    "print(result)\n",
    "    \n",
    "\n",
    "    \n",
    "\n"
   ]
  },
  {
   "cell_type": "code",
   "execution_count": null,
   "id": "11b28a82",
   "metadata": {},
   "outputs": [
    {
     "name": "stdout",
     "output_type": "stream",
     "text": [
      "[[2 2 2 2]\n",
      " [1 1 2 2]\n",
      " [2 2 1 2]]\n",
      "[[5 2 1 6]\n",
      " [8 3 7 4]\n",
      " [5 4 6 9]]\n",
      "addition is:\n",
      "[[ 7  4  3  8]\n",
      " [ 9  4  9  6]\n",
      " [ 7  6  7 11]]\n"
     ]
    }
   ],
   "source": [
    "'''51)Create a NumPy array `arr1` with random integers and another array `arr2` with integers from 1 to 10. \n",
    "Perform element-wise addition between `arr1` and `arr2`'''\n",
    "\n",
    "arr1=np.random.randint(1,3,size=(3,4))\n",
    "print(arr1)\n",
    "\n",
    "arr2=np.random.randint(1,10,size=(3,4))\n",
    "print(arr2)\n",
    "\n",
    "add=arr1+arr2\n",
    "print(\"addition is:\")\n",
    "print(add)"
   ]
  },
  {
   "cell_type": "code",
   "execution_count": null,
   "id": "e46a41cb",
   "metadata": {},
   "outputs": [
    {
     "name": "stdout",
     "output_type": "stream",
     "text": [
      "[10  9  8  7  6  5  4  3  2  1]\n",
      "[ 1  2  3  4  5  6  7  8  9 10]\n",
      "subtraction is:\n",
      "[ 9  7  5  3  1 -1 -3 -5 -7 -9]\n"
     ]
    }
   ],
   "source": [
    "'''52)Generate a NumPy array `arr1` with sequential integers from 10 to 1 and another array `arr2` with integers \n",
    "from 1 to 10. Subtract `arr2` from `arr1` element-wise'''\n",
    "\n",
    "arr1=np.arange(10,0,-1)\n",
    "print(arr1)\n",
    "arr2=np.arange(1,11)\n",
    "print(arr2)\n",
    "\n",
    "subtract=arr1-arr2\n",
    "print(\"subtraction is:\")\n",
    "print(subtract)\n"
   ]
  },
  {
   "cell_type": "code",
   "execution_count": null,
   "id": "8057b326",
   "metadata": {},
   "outputs": [
    {
     "name": "stdout",
     "output_type": "stream",
     "text": [
      "array1\n",
      "[[1 2 2]\n",
      " [2 2 1]\n",
      " [2 2 2]]\n",
      "array2\n",
      "[[1 1 2]\n",
      " [4 1 4]\n",
      " [1 4 3]]\n",
      "multiplication is:\n"
     ]
    },
    {
     "data": {
      "text/plain": [
       "array([[11, 11, 16],\n",
       "       [11,  8, 15],\n",
       "       [12, 12, 18]])"
      ]
     },
     "execution_count": 50,
     "metadata": {},
     "output_type": "execute_result"
    }
   ],
   "source": [
    "'''53) Create a NumPy array `arr1` with random integers and another array `arr2` with integers from 1 to 5. \n",
    "Perform element-wise multiplication between `arr1` and `arr2'''\n",
    "\n",
    "arr1=np.random.randint(1,3,size=(3,3))\n",
    "print(\"array1\")\n",
    "print(arr1)\n",
    "\n",
    "arr2=np.random.randint(1,5,size=(3,3))\n",
    "print(\"array2\")\n",
    "print(arr2)\n",
    "\n",
    "multiplication=arr1 @ arr2\n",
    "print(\"multiplication is:\")\n",
    "multiplication\n"
   ]
  },
  {
   "cell_type": "code",
   "execution_count": null,
   "id": "9fabee85",
   "metadata": {},
   "outputs": [
    {
     "name": "stdout",
     "output_type": "stream",
     "text": [
      "array_1 [ 2  4  6  8 10]\n",
      "array_2 [1 2 3 4 5]\n",
      "division is: [2. 2. 2. 2. 2.]\n"
     ]
    }
   ],
   "source": [
    "'''54) Generate a NumPy array `arr1` with even integers from 2 to 10 and another array `arr2` with integers from 1 \n",
    "to 5. Perform element-wise division of `arr1` by `arr2`'''\n",
    "\n",
    "\n",
    "arr1=np.arange(2,11,2)\n",
    "\n",
    "print(\"array_1\",arr1)\n",
    "arr2=np.arange(1,6)\n",
    "print(\"array_2\",arr2)\n",
    "division=arr1/arr2\n",
    "print(\"division is:\",division)\n",
    "    \n"
   ]
  },
  {
   "cell_type": "code",
   "execution_count": null,
   "id": "6c40a022",
   "metadata": {},
   "outputs": [
    {
     "name": "stdout",
     "output_type": "stream",
     "text": [
      "array_1 is [1 2 3 4 5]\n",
      "arary_2 is [5 4 3 2 1]\n",
      "power is  [ 1 16 27 16  5]\n"
     ]
    }
   ],
   "source": [
    "'''55) Create a NumPy array `arr1` with integers from 1 to 5 and another array `arr2` with the same numbers \n",
    "reversed. Calculate the exponentiation of `arr1` raised to the power of `arr2` element-wise'''\n",
    "\n",
    "arr1= np.arange(1,6)\n",
    "print(\"array_1 is\",arr1)\n",
    "\n",
    "arr2=arr1[::-1]\n",
    "print(\"arary_2 is\",arr2)\n",
    "\n",
    "power= arr1**arr2\n",
    "print(\"power is \",power)"
   ]
  },
  {
   "cell_type": "code",
   "execution_count": 11,
   "id": "142b0007",
   "metadata": {},
   "outputs": [
    {
     "name": "stdout",
     "output_type": "stream",
     "text": [
      "occurrences is\n"
     ]
    },
    {
     "data": {
      "text/plain": [
       "3"
      ]
     },
     "execution_count": 11,
     "metadata": {},
     "output_type": "execute_result"
    }
   ],
   "source": [
    "'''56). Write a function that counts the occurrences of a specific substring within a NumPy array of strings.\n",
    "arr = np.array(['hello', 'world', 'hello', 'numpy', 'hello'])'''\n",
    "\n",
    "import numpy as np\n",
    "def count_occurrences(arr,substring):\n",
    "    \n",
    "       if not np.issubdtype(arr.dtype,np.str_):\n",
    "        raise TypeError(\"it should be string\")\n",
    "         \n",
    "   \n",
    "       count=sum(s.count(substring) for s in arr)\n",
    "       return count\n",
    "\n",
    "arr = np.array(['hello', 'world', 'hello', 'numpy', 'hello'])\n",
    "substring=\"hello\"\n",
    "\n",
    "result=count_occurrences(arr,substring)\n",
    "print(\"occurrences is\")\n",
    "result"
   ]
  },
  {
   "cell_type": "code",
   "execution_count": 12,
   "id": "666c183a",
   "metadata": {},
   "outputs": [
    {
     "data": {
      "text/plain": [
       "array(['HELLO', 'WORLD', 'OPENAI', 'GPT'], dtype='<U6')"
      ]
     },
     "execution_count": 12,
     "metadata": {},
     "output_type": "execute_result"
    }
   ],
   "source": [
    "'''57) Write a function that extracts uppercase characters from a NumPy array of strings.\n",
    "\n",
    "arr = np.array(['Hello', 'World', 'OpenAI', 'GPT'])'''\n",
    "\n",
    "def extracts_uppercase(arr):\n",
    "    if not np.issubdtype(arr.dtype,np.str_):\n",
    "        raise TypeError(\"it should be string\")\n",
    "        \n",
    "    uppercase = np.char.upper(arr)  \n",
    "    return uppercase\n",
    "arr= np.array(['Hello', 'World', 'OpenAI', 'GPT'])\n",
    "result=extracts_uppercase(arr)\n",
    "result\n",
    "         \n",
    "    \n",
    "\n"
   ]
  },
  {
   "cell_type": "code",
   "execution_count": 61,
   "id": "9525d1fb",
   "metadata": {},
   "outputs": [
    {
     "name": "stdout",
     "output_type": "stream",
     "text": [
      "['mango' 'banana' 'grape' 'pinemango']\n"
     ]
    }
   ],
   "source": [
    "'''58) Write a function that replaces occurrences of a substring in a NumPy array of strings with a new string\n",
    "arr = np.array(['apple', 'banana', 'grape', 'pineapple'])'''\n",
    "'''58) Write a function that replaces occurrences of a substring in a NumPy array of strings with a new string\n",
    "arr = np.array(['apple', 'banana', 'grape', 'pineapple'])'''\n",
    "import numpy as np\n",
    "\n",
    "def replace_string(arr, string1, string2):\n",
    "\n",
    "    if not np.issubdtype(arr.dtype, np.str_):\n",
    "        raise TypeError(\"All elements in the array should be strings\")\n",
    "    \n",
    "    \n",
    "    replaced_arr = np.array([s.replace(string1, string2) for s in arr])\n",
    "    return replaced_arr\n",
    "\n",
    "arr = np.array(['apple', 'banana', 'grape', 'pineapple'])\n",
    "string1 = 'apple'\n",
    "string2 = 'mango'\n",
    "\n",
    "result = replace_string(arr, string1, string2)\n",
    "print(result)  \n"
   ]
  },
  {
   "cell_type": "code",
   "execution_count": 62,
   "id": "7e6c3e91",
   "metadata": {},
   "outputs": [
    {
     "data": {
      "text/plain": [
       "array(['HelloOpen', 'WorldAI'], dtype='<U9')"
      ]
     },
     "execution_count": 62,
     "metadata": {},
     "output_type": "execute_result"
    }
   ],
   "source": [
    "'''59) Write a function that concatenates strings in a NumPy array element-wise.\n",
    "arr1 = np.array(['Hello', 'World']) ",
    "\n",
    "arr2 = np.array(['Open', 'AI'])\n",
    "'''\n",
    "\n",
    "def concatenates_strings(arr1,arr2):\n",
    "    if (arr1.shape==arr2.shape):\n",
    "        return np.char.add(arr1,arr2)\n",
    "    else:\n",
    "        print(\"string should have same shape\")\n",
    "        \n",
    "arr1 = np.array(['Hello', 'World'])\n",
    "arr2 = np.array(['Open', 'AI'])\n",
    "\n",
    "result=concatenates_strings(arr1,arr2)\n",
    "result"
   ]
  },
  {
   "cell_type": "code",
   "execution_count": 64,
   "id": "1429cf87",
   "metadata": {},
   "outputs": [
    {
     "data": {
      "text/plain": [
       "9"
      ]
     },
     "execution_count": 64,
     "metadata": {},
     "output_type": "execute_result"
    }
   ],
   "source": [
    "'''60) Write a function that finds the length of the longest string in a NumPy array.\n",
    "\n",
    "arr = np.array(['apple', 'banana', 'grape', 'pineapple'])'''\n",
    "\n",
    "def longest_string(arr):\n",
    "    maximum_string=max(len(a)for a in arr)\n",
    "    return maximum_string\n",
    "arr = np.array(['apple', 'banana', 'grape', 'pineapple'])\n",
    "result=longest_string(arr)\n",
    "result"
   ]
  },
  {
   "cell_type": "code",
   "execution_count": 70,
   "id": "28381227",
   "metadata": {},
   "outputs": [
    {
     "name": "stdout",
     "output_type": "stream",
     "text": [
      "dataset is: [ 428  689  824  675  908  779   49  609  749    9  286  643  249  373\n",
      "  759  122  747  651  388  913  413   87  931  260  326  863  366  274\n",
      "  661  352  694  260  797  877  971  628  926  881  378  483  372  486\n",
      "  813  645  685  128  408  981  374  183  591  142   65   40  898  247\n",
      "  600  133  402  928  928  440  397 1000  485  519  437  239  758  485\n",
      "  479  143  236  644    2  112  685  959  723  153  509  781  853  741\n",
      "  812  440  229  911  791  479  988  604  730  891  525  137   26  135\n",
      "  219  288]\n",
      "mean of dataset:\n",
      "523.12\n",
      "median of dataset is:\n",
      "497.5\n",
      "variance of dataset is:\n",
      "82534.00559999999\n",
      "standard deviation of dataset is:\n",
      "287.28732237953\n"
     ]
    }
   ],
   "source": [
    "'''61).Create a dataset of 100 random integers between 1 and 1000. Compute the mean, median, variance, and \n",
    "standard deviation of the dataset using NumPy's functions.'''\n",
    "\n",
    "import numpy as np\n",
    "dataset=np.random.randint(1,1001,size=100)\n",
    "print(\"dataset is:\",dataset)\n",
    "\n",
    "print(\"mean of dataset:\")\n",
    "mean=np.mean(dataset)\n",
    "print(mean)\n",
    "print(\"median of dataset is:\")\n",
    "median=np.median(dataset)\n",
    "print(median)\n",
    "print(\"variance of dataset is:\")\n",
    "variance=np.var(dataset)\n",
    "print(variance)\n",
    "print(\"standard deviation of dataset is:\")\n",
    "std_dev=np.std(dataset)\n",
    "print(std_dev)"
   ]
  },
  {
   "cell_type": "code",
   "execution_count": 76,
   "id": "159443da",
   "metadata": {},
   "outputs": [
    {
     "name": "stdout",
     "output_type": "stream",
     "text": [
      "[ 89  93  65   3  35  41  70 100  43   3  66  92  32  93  91  11  25  81\n",
      "  92   2  73  56  62  37  34  74  33  54  17  36  76  59   2   7  80  91\n",
      "  89  71  39  29  40  55  37  65  84  64   2  91  56  82]\n",
      "25th percentiles is 34.25\n",
      "75th percentiles is 80.75\n"
     ]
    }
   ],
   "source": [
    "'''62) Generate an array of 50 random numbers between 1 and 100. Find the 25th and 75th percentiles of the \n",
    "dataset.'''\n",
    "\n",
    "dataset=np.random.randint(1,101,size=50)\n",
    "print(dataset)\n",
    "_25th_percentile=np.percentile(dataset,25)\n",
    "print(\"25th percentiles is:\",_25th_percentile)\n",
    "\n",
    "_75th_percentile=np.percentile(dataset,75)\n",
    "print(\"75th percentiles is:\",_75th_percentile)\n"
   ]
  },
  {
   "cell_type": "code",
   "execution_count": 81,
   "id": "625742a8",
   "metadata": {},
   "outputs": [
    {
     "name": "stdout",
     "output_type": "stream",
     "text": [
      "correlation coefficient is: 0.9999999999999999\n"
     ]
    }
   ],
   "source": [
    "'''63). Create two arrays representing two sets of variables. Compute the correlation coefficient between these \n",
    "arrays using NumPy's `corrcoef` function'''\n",
    "\n",
    "var1=np.array([1,2,3,4,5])\n",
    "var2=np.array([6,7,8,9,10])\n",
    "correlation_coefficient=np.corrcoef(var1,var2)[0,1]\n",
    "print(\"correlation coefficient is:\",correlation_coefficient)"
   ]
  },
  {
   "cell_type": "code",
   "execution_count": 44,
   "id": "00ca1721",
   "metadata": {},
   "outputs": [
    {
     "name": "stdout",
     "output_type": "stream",
     "text": [
      "[[ 45  51 177]\n",
      " [108 123 378]\n",
      " [171 195 579]]\n"
     ]
    }
   ],
   "source": [
    "'''64) Create two matrices and perform matrix multiplication using NumPy's `dot` function.'''\n",
    "import numpy.matlib as nm\n",
    "\n",
    "matrix_1=nm.array([[1,2,3],\n",
    "                 [4,5,6],\n",
    "                 [7,8,9]])\n",
    "\n",
    "matrix_2=nm.array([[7,8,9],\n",
    "                  [4,5,6],\n",
    "                  [10,11,52]])\n",
    "\n",
    "dot_product=np.dot(matrix_1,matrix_2)\n",
    "print(dot_product)"
   ]
  },
  {
   "cell_type": "code",
   "execution_count": 85,
   "id": "4b28c52f",
   "metadata": {},
   "outputs": [
    {
     "name": "stdout",
     "output_type": "stream",
     "text": [
      "array [125 344 206 107 948  56 441  30 409 181  29 303 902 935 523  23 131 518\n",
      " 328 192 655  23 913 239 523 483  85 463 712 339 451 337 343 896   5 894\n",
      " 500 885 802 925 744 139  68 658 524 433 954 260  15 910]\n",
      "10th percentiles 29.9\n",
      "50th percentiles 421.0\n",
      "90th percentiles 910.3\n",
      "first quartile: 149.5\n",
      "third quartile: 698.5\n"
     ]
    }
   ],
   "source": [
    "'''65) Create an array of 50 integers between 10 and 1000. Calculate the 10th, 50th (median), and 90th \n",
    "percentiles along with the first and third quartiles.'''\n",
    "import numpy as np\n",
    "\n",
    "array=np.random.randint(1,1001,size=50)\n",
    "print(\"array\",array)\n",
    "percentiles=np.percentile(array,[10,50,90])\n",
    "print(\"10th percentiles\",percentiles[0])\n",
    "print(\"50th percentiles\",percentiles[1])\n",
    "print(\"90th percentiles\",percentiles[2])\n",
    "\n",
    "quartiles=np.percentile(array,[25,50,75])\n",
    "print(\"first quartile:\",quartiles[0])\n",
    "print(\"third quartile:\",quartiles[2])"
   ]
  },
  {
   "cell_type": "code",
   "execution_count": 92,
   "id": "a40e8047",
   "metadata": {},
   "outputs": [
    {
     "name": "stdout",
     "output_type": "stream",
     "text": [
      "element to find index 7\n",
      "index of a element [6]\n"
     ]
    }
   ],
   "source": [
    "'''66). Create a NumPy array of integers and find the index of a specific element'''\n",
    "array=np.array([1,2,3,4,5,6,7,8,9,10])\n",
    "element=7\n",
    "print(\"element to find index\",element)\n",
    "index=np.where(array==element)[0]\n",
    "print(\"index of a element\",index)"
   ]
  },
  {
   "cell_type": "code",
   "execution_count": 98,
   "id": "7d09252c",
   "metadata": {},
   "outputs": [
    {
     "name": "stdout",
     "output_type": "stream",
     "text": [
      "[7 6 6 3 3 6 7 5 1 3 3 1 1 9 1 5 4 4 3 8]\n",
      "ascending order of array is: [1 1 1 1 3 3 3 3 3 4 4 5 5 6 6 6 7 7 8 9]\n"
     ]
    }
   ],
   "source": [
    "'''67) Generate a random NumPy array and sort it in ascending order.'''\n",
    "array=np.random.randint(1,10,size=20)\n",
    "print (array)\n",
    "ascending_order=np.sort(array)\n",
    "print(\"ascending order of array is:\",ascending_order)"
   ]
  },
  {
   "cell_type": "code",
   "execution_count": 100,
   "id": "defcc183",
   "metadata": {},
   "outputs": [
    {
     "name": "stdout",
     "output_type": "stream",
     "text": [
      "elements >20:  [25 42 30]\n"
     ]
    }
   ],
   "source": [
    "'''68) Filter elements >20  in the given NumPy array\n",
    "arr = np.array([12, 25, 6, 42, 8, 30])'''\n",
    "\n",
    "arr = np.array([12, 25, 6, 42, 8, 30])\n",
    "a=arr[arr>20]\n",
    "print(\"elements >20: \",a)"
   ]
  },
  {
   "cell_type": "code",
   "execution_count": 102,
   "id": "436dcd3c",
   "metadata": {},
   "outputs": [
    {
     "name": "stdout",
     "output_type": "stream",
     "text": [
      "elements which are divisible by 3: [12 15]\n"
     ]
    }
   ],
   "source": [
    "'''69)Filter elements which are divisible by 3 from a given NumPy array.\n",
    "arr = np.array([1, 5, 8, 12, 15])'''\n",
    "\n",
    "arr = np.array([1, 5, 8, 12, 15])\n",
    "a=arr[arr%3==0]\n",
    "print(\"elements which are divisible by 3:\",a)"
   ]
  },
  {
   "cell_type": "code",
   "execution_count": 104,
   "id": "2d984f1e",
   "metadata": {},
   "outputs": [
    {
     "name": "stdout",
     "output_type": "stream",
     "text": [
      "elements which are ≥ 20 and ≤ 40: [20 30 40]\n"
     ]
    }
   ],
   "source": [
    "'''70)Filter elements which are ≥ 20 and ≤ 40 from a given NumPy array.\n",
    "arr = np.array([10, 20, 30, 40, 50])'''\n",
    "arr = np.array([10, 20, 30, 40, 50])\n",
    "result=arr[(arr>=20)&(arr<=40)]\n",
    "print(\"elements which are ≥ 20 and ≤ 40:\",result)"
   ]
  },
  {
   "cell_type": "code",
   "execution_count": 105,
   "id": "0fde7002",
   "metadata": {},
   "outputs": [
    {
     "name": "stdout",
     "output_type": "stream",
     "text": [
      "byte order is: =\n"
     ]
    }
   ],
   "source": [
    "'''71). For the given NumPy array, check its byte order using the `dtype` attribute byteorder.\n",
    "arr = np.array([1, 2, 3])'''\n",
    "\n",
    "arr = np.array([1, 2, 3])\n",
    "byte_order=arr.dtype.byteorder\n",
    "print(\"byte order is:\",byte_order)"
   ]
  },
  {
   "cell_type": "code",
   "execution_count": 109,
   "id": "df7eb031",
   "metadata": {},
   "outputs": [
    {
     "name": "stdout",
     "output_type": "stream",
     "text": [
      "array [1 2 3]\n",
      "byte swapping: [16777216 33554432 50331648]\n"
     ]
    }
   ],
   "source": [
    "'''72) For the given NumPy array, perform byte swapping in place using `byteswap()`.\n",
    "arr = np.array([1, 2, 3], dtype=np.int32)'''\n",
    "\n",
    "arr = np.array([1, 2, 3], dtype=np.int32)\n",
    "print(\"array\",arr)\n",
    "\n",
    "byte_swapping=arr.byteswap(True)\n",
    "print(\"byte swapping:\",byte_swapping)\n"
   ]
  },
  {
   "cell_type": "code",
   "execution_count": 121,
   "id": "712c2920",
   "metadata": {},
   "outputs": [
    {
     "name": "stdout",
     "output_type": "stream",
     "text": [
      "array [1 2 3]\n",
      "byte order is: =\n",
      "byte swapping: [1 2 3]\n",
      "byte order after swapping: >\n"
     ]
    }
   ],
   "source": [
    "'''73) For the given NumPy array, swap its byte order without modifying the original array using \n",
    "`newbyteorder()`.arr = np.array([1, 2, 3], dtype=np.int32)'''\n",
    "import numpy as np\n",
    "arr = np.array([1, 2, 3], dtype=np.int32)\n",
    "print(\"array\",arr)\n",
    "byte_order=arr.dtype.byteorder\n",
    "print(\"byte order is:\",byte_order)\n",
    "\n",
    "byte_swapping =arr.byteswap().newbyteorder()\n",
    "print(\"byte swapping:\",byte_swapping)\n",
    "print(\"byte order after swapping:\",byte_swapping.dtype.byteorder)\n"
   ]
  },
  {
   "cell_type": "code",
   "execution_count": 12,
   "id": "6028b2aa",
   "metadata": {},
   "outputs": [
    {
     "name": "stdout",
     "output_type": "stream",
     "text": [
      "[1 2 3]\n",
      "swapped array is [1 2 3]\n"
     ]
    }
   ],
   "source": [
    "'''74) For the given NumPy array and swap its byte order conditionally based on system endianness using \n",
    "`newbyteorder()\n",
    "arr = np.array([1, 2, 3], dtype=np.int32)'''\n",
    "\n",
    "import numpy as np\n",
    "arr = np.array([1, 2, 3], dtype=np.int32)\n",
    "print(arr)\n",
    "\n",
    "\n",
    "\n",
    "system_endianness='little' if np.little_endian else 'big'\n",
    "\n",
    "if system_endianness=='little':\n",
    "     swapped_array = arr.byteswap().newbyteorder()\n",
    "else:\n",
    "    swapped_array\n",
    "print(\"swapped array is\",swapped_array)    \n",
    "    \n",
    "\n",
    "\n"
   ]
  },
  {
   "cell_type": "code",
   "execution_count": 13,
   "id": "d53fce95",
   "metadata": {},
   "outputs": [
    {
     "name": "stdout",
     "output_type": "stream",
     "text": [
      "[1 2 3]\n",
      "swapped array [1 2 3]\n"
     ]
    }
   ],
   "source": [
    "'''75) For the given NumPy array, check if byte swapping is necessary for the current system using `dtype` \n",
    "attribute `byteorder\n",
    "arr = np.array([1, 2, 3], dtype=np.int32)'''\n",
    "\n",
    "arr = np.array([1, 2, 3], dtype=np.int32)\n",
    "print(arr)\n",
    "array_byteorder = arr.dtype.byteorder\n",
    "if array_byteorder == '=' or \\\n",
    "   (array_byteorder == '<' and system_endianness == 'little') or \\\n",
    "   (array_byteorder == '>' and system_endianness == 'big'):\n",
    "    \n",
    "    swapped_arr = arr\n",
    "else:\n",
    "    \n",
    "    swapped_arr = arr.byteswap().newbyteorder()\n",
    "print(\"swapped array\",swapped_arr)\n",
    "\n",
    "\n"
   ]
  },
  {
   "cell_type": "code",
   "execution_count": 16,
   "id": "8a69c1bd",
   "metadata": {},
   "outputs": [
    {
     "name": "stdout",
     "output_type": "stream",
     "text": [
      "array 1: [ 1  2  3  4  5  6  7  8  9 10]\n",
      "copy array: [100   2   3   4   5   6   7   8   9  10]\n",
      "array1 after modification: [ 1  2  3  4  5  6  7  8  9 10]\n"
     ]
    }
   ],
   "source": [
    "'''76)Create a NumPy array `arr1` with values from 1 to 10. Create a copy of `arr1` named `copy_arr` and modify \n",
    "an element in `copy_arr`. Check if modifying `copy_arr` affects `arr1`.'''\n",
    "\n",
    "arr1=np.arange(1,11)\n",
    "print(\"array 1:\",arr1)\n",
    "copy_ary=arr1.copy()\n",
    "copy_ary[0]=100\n",
    "print(\"copy array:\",copy_ary)\n",
    "print(\"array1 after modification:\",arr1)"
   ]
  },
  {
   "cell_type": "code",
   "execution_count": 42,
   "id": "bdc31225",
   "metadata": {},
   "outputs": [
    {
     "name": "stdout",
     "output_type": "stream",
     "text": [
      "[[0 6 0]\n",
      " [1 3 0]\n",
      " [2 9 4]]\n",
      "Modify an element in `view_slice [[ 9 20]]\n",
      "matrix after modification [[ 0  6  0]\n",
      " [ 1  3  0]\n",
      " [ 2  9 20]]\n"
     ]
    }
   ],
   "source": [
    "'''77). Create a 2D NumPy array `matrix` of shape (3, 3) with random integers. Extract a slice `view_slice` from \n",
    "the matrix. Modify an element in `view_slice` and observe if it changes the original `matrix'''\n",
    "import numpy.matlib as nm\n",
    "matrix=nm.random.randint(0,10,(3,3))\n",
    "print(matrix)\n",
    "view_slice=matrix[2:,1:]\n",
    "view_slice[0,1]=20\n",
    "print(\"Modify an element in `view_slice\",view_slice)\n",
    "print(\"matrix after modification\",matrix)"
   ]
  },
  {
   "cell_type": "code",
   "execution_count": 25,
   "id": "f162487a",
   "metadata": {},
   "outputs": [
    {
     "name": "stdout",
     "output_type": "stream",
     "text": [
      "[[ 1  2  3]\n",
      " [ 4  5  6]\n",
      " [ 7  8  9]\n",
      " [10 11 12]]\n",
      "extract slice view_b [[11]\n",
      " [14]\n",
      " [17]]\n",
      "array after modification [[ 1  2  3]\n",
      " [ 4  5 11]\n",
      " [ 7  8 14]\n",
      " [10 11 17]]\n"
     ]
    }
   ],
   "source": [
    "'''78) Create a NumPy array `array_a` of shape (4, 3) with sequential integers from 1 to 12. Extract a slice \n",
    "`view_b` from `array_a` and broadcast the addition of 5 to view_b. Check if it alters the original `array_a`'''\n",
    "\n",
    "array=np.arange(1,13).reshape(4,3)\n",
    "print(array)\n",
    "view_b=array[1:,2:]\n",
    "view_b+=5\n",
    "print(\"extract slice view_b\",view_b)\n",
    "print(\"array after modification\",array)"
   ]
  },
  {
   "cell_type": "code",
   "execution_count": 28,
   "id": "6b821ce4",
   "metadata": {},
   "outputs": [
    {
     "name": "stdout",
     "output_type": "stream",
     "text": [
      "original array [[1 2 3 4]\n",
      " [5 6 7 8]]\n",
      "reshaped view [[1 2]\n",
      " [3 4]\n",
      " [5 6]\n",
      " [7 8]]\n",
      "orignal array after modification [[ 1  2  3 18]\n",
      " [ 5  6  7  8]]\n"
     ]
    }
   ],
   "source": [
    "'''79)Create a NumPy array `orig_array` of shape (2, 4) with values from 1 to 8. Create a reshaped view \n",
    "`reshaped_view` of shape (4, 2) from orig_array. Modify an element in `reshaped_view` and check if it \n",
    "reflects changes in the original `orig_array`'''\n",
    "\n",
    "orig_array=np.arange(1,9).reshape(2,4)\n",
    "print(\"original array\",orig_array)\n",
    "reshaped_view=orig_array.reshape(4,2)\n",
    "print(\"reshaped view\",reshaped_view)\n",
    "\n",
    "reshaped_view[1,1]=18\n",
    "print(\"orignal array after modification\",orig_array)"
   ]
  },
  {
   "cell_type": "code",
   "execution_count": 39,
   "id": "d72131d4",
   "metadata": {},
   "outputs": [
    {
     "name": "stdout",
     "output_type": "stream",
     "text": [
      "[[1 6 7 8]\n",
      " [2 4 9 7]\n",
      " [4 7 1 2]]\n",
      "element greater than five [6 7 8 9 7 7]\n",
      "data after modification [[1 6 7 8]\n",
      " [2 4 9 7]\n",
      " [4 7 1 2]]\n"
     ]
    }
   ],
   "source": [
    "'''80) Create a NumPy array `data` of shape (3, 4) with random integers. Extract a copy `data_copy` of \n",
    "elements greater than 5. Modify an element in `data_copy` and verify if it affects the original `data'''\n",
    "\n",
    "data=np.random.randint(1,10,size=(3,4))\n",
    "print(data)\n",
    "data_copy=data[data>5].copy()\n",
    "print(\"element greater than five\",data_copy)\n",
    "data_copy[0]= 10\n",
    "\n",
    "print(\"data after modification\",data)"
   ]
  },
  {
   "cell_type": "code",
   "execution_count": 46,
   "id": "fe052599",
   "metadata": {},
   "outputs": [
    {
     "name": "stdout",
     "output_type": "stream",
     "text": [
      "matrixA [[1 2 3]\n",
      " [4 5 6]]\n",
      "matrixB [[ 4 10 11]\n",
      " [ 7 18 96]]\n",
      "addition is: [[  5  12  14]\n",
      " [ 11  23 102]]\n",
      "subtraction is: [[ -3  -8  -8]\n",
      " [ -3 -13 -90]]\n"
     ]
    }
   ],
   "source": [
    "'''81)Create two matrices A and B of identical shape containing integers and perform addition and subtraction \n",
    "operations between them'''\n",
    "\n",
    "import numpy.matlib as np\n",
    "A=np.array([[1,2,3],\n",
    "           [4,5,6]])\n",
    "print(\"matrixA\",A)\n",
    "B=np.array([[4,10,11],\n",
    "           [7,18,96]])\n",
    "print(\"matrixB\",B)\n",
    "#addition\n",
    "add=A+B\n",
    "print(\"addition is:\",add)\n",
    "#subtraction\n",
    "sub=A-B\n",
    "print(\"subtraction is:\",sub)\n"
   ]
  },
  {
   "cell_type": "code",
   "execution_count": 47,
   "id": "c1ffa414",
   "metadata": {},
   "outputs": [
    {
     "name": "stdout",
     "output_type": "stream",
     "text": [
      "[[9 2]\n",
      " [4 4]\n",
      " [6 2]]\n",
      "[[9 5 3 6]\n",
      " [4 9 1 6]]\n",
      "matrix multiplication is; [[89 63 29 66]\n",
      " [52 56 16 48]\n",
      " [62 48 20 48]]\n"
     ]
    }
   ],
   "source": [
    "'''82) Generate two matrices `C` (3x2) and `D` (2x4) and perform matrix multiplication'''\n",
    "\n",
    "C=np.random.randint(1,10,size=(3,2))\n",
    "print(C)\n",
    "D=np.random.randint(1,10,size=(2,4))\n",
    "print(D)\n",
    "#matrix multiplication\n",
    "mult=C@D\n",
    "print(\"matrix multiplication is;\",mult)\n"
   ]
  },
  {
   "cell_type": "code",
   "execution_count": 48,
   "id": "285f24bc",
   "metadata": {},
   "outputs": [
    {
     "name": "stdout",
     "output_type": "stream",
     "text": [
      "transpose is: [1 2 3 4 5]\n"
     ]
    }
   ],
   "source": [
    "'''83) Create a matrix `E` and find its transpose'''\n",
    "E=np.array([1,2,3,4,5])\n",
    "transpose=E.T\n",
    "print(\"transpose is:\",transpose)"
   ]
  },
  {
   "cell_type": "code",
   "execution_count": 56,
   "id": "3ed8268e",
   "metadata": {},
   "outputs": [
    {
     "name": "stdout",
     "output_type": "stream",
     "text": [
      "determinant is: -36.0\n"
     ]
    }
   ],
   "source": [
    "'''84) Generate a square matrix `F` and compute its determinant.\n",
    "'''\n",
    "import numpy.matlib as nm\n",
    "F=np.array([[1, 2, 3],\n",
    "              [4, 8, 6],\n",
    "              [7, 8, 9]])\n",
    "determinant=np.linalg.det(F)\n",
    "print(\"determinant is:\",determinant)"
   ]
  },
  {
   "cell_type": "code",
   "execution_count": 57,
   "id": "8595ca52",
   "metadata": {},
   "outputs": [
    {
     "name": "stdout",
     "output_type": "stream",
     "text": [
      "inverse is: [[-0.66666667 -0.16666667  0.33333333]\n",
      " [-0.16666667  0.33333333 -0.16666667]\n",
      " [ 0.66666667 -0.16666667  0.        ]]\n"
     ]
    }
   ],
   "source": [
    "'''85) Create a square matrix `G` and find its inverse.'''\n",
    "G=np.array([[1, 2, 3],\n",
    "              [4, 8, 6],\n",
    "              [7, 8, 9]])\n",
    "inverse=np.linalg.inv(G)\n",
    "print(\"inverse is:\",inverse)\n",
    "\n"
   ]
  },
  {
   "cell_type": "code",
   "execution_count": null,
   "id": "82bbf478",
   "metadata": {},
   "outputs": [],
   "source": []
  }
 ],
 "metadata": {
  "kernelspec": {
   "display_name": "Python 3 (ipykernel)",
   "language": "python",
   "name": "python3"
  },
  "language_info": {
   "codemirror_mode": {
    "name": "ipython",
    "version": 3
   },
   "file_extension": ".py",
   "mimetype": "text/x-python",
   "name": "python",
   "nbconvert_exporter": "python",
   "pygments_lexer": "ipython3",
   "version": "3.10.0"
  }
 },
 "nbformat": 4,
 "nbformat_minor": 5
}
